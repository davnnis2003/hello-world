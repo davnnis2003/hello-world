{
  "nbformat": 4,
  "nbformat_minor": 0,
  "metadata": {
    "colab": {
      "name": "Jimmy's data playground.ipynb",
      "provenance": [],
      "toc_visible": true,
      "include_colab_link": true
    },
    "kernelspec": {
      "name": "python3",
      "display_name": "Python 3"
    }
  },
  "cells": [
    {
      "cell_type": "markdown",
      "metadata": {
        "id": "view-in-github",
        "colab_type": "text"
      },
      "source": [
        "<a href=\"https://colab.research.google.com/github/davnnis2003/jimmy-playground/blob/master/Jimmy's_data_playground.ipynb\" target=\"_parent\"><img src=\"https://colab.research.google.com/assets/colab-badge.svg\" alt=\"Open In Colab\"/></a>"
      ]
    },
    {
      "cell_type": "code",
      "metadata": {
        "id": "KFvSWG6GfKdW",
        "colab_type": "code",
        "outputId": "e9dbd0ca-8477-45d5-a99f-2609963ff4f0",
        "colab": {
          "base_uri": "https://localhost:8080/",
          "height": 34
        }
      },
      "source": [
        "from sklearn.metrics import f1_score\n",
        "y_true = [0, 1, 1, 0, 1, 1]\n",
        "y_pred = [0, 0, 1, 0, 0, 1]\n",
        "f1_score(y_true, y_pred)"
      ],
      "execution_count": 0,
      "outputs": [
        {
          "output_type": "execute_result",
          "data": {
            "text/plain": [
              "0.6666666666666666"
            ]
          },
          "metadata": {
            "tags": []
          },
          "execution_count": 2
        }
      ]
    },
    {
      "cell_type": "code",
      "metadata": {
        "id": "BDW2yZdUZbnd",
        "colab_type": "code",
        "colab": {}
      },
      "source": [
        "from google.colab import auth\n",
        "auth.authenticate_user()"
      ],
      "execution_count": 0,
      "outputs": []
    },
    {
      "cell_type": "code",
      "metadata": {
        "id": "qrMG6VW7bl5A",
        "colab_type": "code",
        "colab": {}
      },
      "source": [
        "from google.colab import auth\n",
        "auth.authenticate_user()"
      ],
      "execution_count": 0,
      "outputs": []
    },
    {
      "cell_type": "code",
      "metadata": {
        "id": "Kai5blVRbl4r",
        "colab_type": "code",
        "colab": {
          "base_uri": "https://localhost:8080/",
          "height": 731
        },
        "outputId": "03d39a77-f47c-47e3-ca02-afc48e18326d"
      },
      "source": [
        "from google.cloud import bigquery\n",
        "\n",
        "# https://cloud.google.com/resource-manager/docs/creating-managing-projects\n",
        "project_id = 'rps-bi-prd2'\n",
        "client = bigquery.Client(project=project_id)\n",
        "\n",
        "for dataset in client.list_datasets():\n",
        "  print(dataset.dataset_id)"
      ],
      "execution_count": 14,
      "outputs": [
        {
          "output_type": "stream",
          "text": [
            "WARNING:google.auth._default:No project ID could be determined. Consider running `gcloud config set project` or setting the GOOGLE_CLOUD_PROJECT environment variable\n"
          ],
          "name": "stderr"
        },
        {
          "output_type": "stream",
          "text": [
            "9c_db_as\n",
            "9c_db_eu\n",
            "9c_db_kr\n",
            "9c_db_master\n",
            "9c_db_me\n",
            "9c_db_us\n",
            "ar_hu_export\n",
            "data_migration\n",
            "dev\n",
            "godroid\n",
            "import_raw\n",
            "ml\n",
            "portal\n",
            "rapp\n",
            "rapp_pandora_export\n",
            "raw\n",
            "restaurant_monitor\n",
            "rps_dashboard\n",
            "rps_data_quality_tracker\n",
            "soti\n",
            "st_9c_db_as\n",
            "st_9c_db_eu\n",
            "st_9c_db_kr\n",
            "st_9c_db_master\n",
            "st_9c_db_me\n",
            "st_9c_db_us\n",
            "st_ar_hu_export\n",
            "st_godroid\n",
            "st_gowin\n",
            "st_icash\n",
            "st_mobilock\n",
            "st_oma\n",
            "st_opa\n",
            "st_portal\n",
            "st_raw\n",
            "st_rps_dashboard\n",
            "st_soti\n",
            "st_vendor_monitor\n",
            "tableau\n",
            "temp\n",
            "webkick\n"
          ],
          "name": "stdout"
        }
      ]
    }
  ]
}